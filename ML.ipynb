{
  "cells": [
    {
      "cell_type": "markdown",
      "metadata": {
        "id": "view-in-github",
        "colab_type": "text"
      },
      "source": [
        "<a href=\"https://colab.research.google.com/github/mmubashirm381/End-to-End-ML-Pipeline-with-Scikit-learn-Pipeline-API-/blob/main/ML.ipynb\" target=\"_parent\"><img src=\"https://colab.research.google.com/assets/colab-badge.svg\" alt=\"Open In Colab\"/></a>"
      ]
    },
    {
      "cell_type": "code",
      "execution_count": null,
      "metadata": {
        "scrolled": true,
        "id": "Pu6_6Q3_vWJP"
      },
      "outputs": [],
      "source": [
        "## A. Lets look at the data (note, you can do this in excel or R!)\n",
        "import pandas as pd\n",
        "\n",
        "d = pd.read_table('data.txt', sep='\\t', index_col = 0)\n",
        "\n",
        "print('Shape of data (rows, cols):')\n",
        "print(d.shape)\n",
        "\n",
        "print('\\nSnapshot of data:')\n",
        "print(d.iloc[:6,:5])  # prints first 6 rows and 5 columns\n",
        "\n",
        "print('\\nList of class labels')\n",
        "print(d['Class'].value_counts())"
      ]
    },
    {
      "cell_type": "code",
      "execution_count": null,
      "metadata": {
        "id": "ijunVaxovWJQ"
      },
      "outputs": [],
      "source": [
        "# B. Drop/Impute NAs and one-hot-encode categorical features\n",
        "\n",
        "%run ../ML_preprocess.py -df data.txt -na_method median"
      ]
    },
    {
      "cell_type": "code",
      "execution_count": null,
      "metadata": {
        "id": "EgamuCCpvWJQ"
      },
      "outputs": [],
      "source": [
        "# C. Define test set\n",
        "\n",
        "%run ../test_set.py -df data_mod.txt  \\\n",
        "                    -use gen,special  \\\n",
        "                    -type c  \\\n",
        "                    -p 0.1  \\\n",
        "                    -save test_genes.txt"
      ]
    },
    {
      "cell_type": "code",
      "execution_count": null,
      "metadata": {
        "id": "_wk8iB10vWJQ"
      },
      "outputs": [],
      "source": [
        "%run ../Feature_Selection.py -df data_mod.txt \\\n",
        "                            -test test_genes.txt \\\n",
        "                            -cl_train special,gen  \\\n",
        "                            -type c  \\\n",
        "                            -alg lasso  \\\n",
        "                            -p 0.01  \\\n",
        "                            -save top_feat_lasso.txt"
      ]
    },
    {
      "cell_type": "code",
      "execution_count": null,
      "metadata": {
        "id": "c2RycRiZvWJQ"
      },
      "outputs": [],
      "source": [
        "%run ../Feature_Selection.py -df data_mod.txt  \\\n",
        "                            -test test_genes.txt  \\\n",
        "                            -cl_train special,gen \\\n",
        "                            -type c  \\\n",
        "                            -alg random  \\\n",
        "                            -n 10  \\\n",
        "                            -save rand_feat.txt\n"
      ]
    },
    {
      "cell_type": "code",
      "execution_count": null,
      "metadata": {
        "scrolled": false,
        "id": "ZgEstgKdvWJR"
      },
      "outputs": [],
      "source": [
        "%run ../ML_classification.py -df data_mod.txt \\\n",
        "                        -test test_genes.txt \\\n",
        "                        -cl_train special,gen \\\n",
        "                        -alg SVM \\\n",
        "                        -cv 5 \\\n",
        "                        -n 10 \\\n",
        "                        -save metab_SVM\n"
      ]
    },
    {
      "cell_type": "code",
      "execution_count": null,
      "metadata": {
        "id": "DxRzO5xtvWJR"
      },
      "outputs": [],
      "source": [
        "%run ../ML_classification.py -df data_mod.txt \\\n",
        "                            -test test_genes.txt \\\n",
        "                            -cl_train special,gen \\\n",
        "                            -alg SVM \\\n",
        "                            -cv 5 \\\n",
        "                            -n 10 \\\n",
        "                            -apply unknown \\\n",
        "                            -plots T \\\n",
        "                            -save metab_SVM\n"
      ]
    },
    {
      "cell_type": "code",
      "execution_count": null,
      "metadata": {
        "id": "7O3iTBHzvWJS"
      },
      "outputs": [],
      "source": [
        "%run ../ML_classification.py -df data_mod.txt \\\n",
        "                            -test test_genes.txt \\\n",
        "                            -cl_train special,gen \\\n",
        "                            -alg SVM \\\n",
        "                            -cv 5 \\\n",
        "                            -n 10 \\\n",
        "                            -feat top_feat_lasso.txt \\\n",
        "                            -save metab_SVM_lasso10\n"
      ]
    },
    {
      "cell_type": "code",
      "execution_count": null,
      "metadata": {
        "id": "lt875IN_vWJS"
      },
      "outputs": [],
      "source": [
        "%run ../ML_classification.py -df data_mod.txt \\\n",
        "                            -test test_genes.txt \\\n",
        "                            -cl_train special,gen \\\n",
        "                            -alg SVM \\\n",
        "                            -cv 5 \\\n",
        "                            -n 10 \\\n",
        "                            -feat rand_feat.txt_11 \\\n",
        "                            -save metab_SVM_rand"
      ]
    },
    {
      "cell_type": "code",
      "execution_count": null,
      "metadata": {
        "id": "o9aiJ51pvWJS"
      },
      "outputs": [],
      "source": [
        "%run ../scripts_PostAnalysis/ML_plots.py -save compare_SVM \\\n",
        "                    -cl_train special gen \\\n",
        "                    -names All LASSO Random \\\n",
        "                    -scores metab_SVM_scores.txt metab_SVM_lasso10_scores.txt metab_SVM_rand_scores.txt\n"
      ]
    }
  ],
  "metadata": {
    "kernelspec": {
      "display_name": "Python 3",
      "language": "python",
      "name": "python3"
    },
    "language_info": {
      "codemirror_mode": {
        "name": "ipython",
        "version": 3
      },
      "file_extension": ".py",
      "mimetype": "text/x-python",
      "name": "python",
      "nbconvert_exporter": "python",
      "pygments_lexer": "ipython3",
      "version": "3.7.1"
    },
    "colab": {
      "provenance": [],
      "include_colab_link": true
    }
  },
  "nbformat": 4,
  "nbformat_minor": 0
}